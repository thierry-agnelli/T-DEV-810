{
 "cells": [
  {
   "cell_type": "code",
   "execution_count": 24,
   "metadata": {},
   "outputs": [
    {
     "name": "stdout",
     "output_type": "stream",
     "text": [
      "0\n",
      "%2 False\n",
      "%3 False\n",
      "##################################################\n",
      "1\n",
      "%2 True\n",
      "%3 False\n",
      "##################################################\n",
      "2\n",
      "%2 False\n",
      "%3 True\n",
      "##################################################\n",
      "3\n",
      "%2 True\n",
      "%3 False\n",
      "##################################################\n"
     ]
    }
   ],
   "source": [
    "import tensorflow as tf\n",
    "\n",
    "def callback(index, data):\n",
    "        \n",
    "    return index\n",
    "\n",
    "dataset = tf.data.Dataset.from_tensor_slices([4, 3, 2, 1])\n",
    "# print(dataset)\n",
    "for element in dataset.as_numpy_iterator():\n",
    "  print(element)\n",
    "dataset = dataset.enumerate()\n",
    "# print(dataset)\n",
    "dataset = dataset.map(callback)\n",
    "# print(dataset)\n",
    "\n",
    "for element in dataset.as_numpy_iterator():\n",
    "  print(element)\n"
   ]
  }
 ],
 "metadata": {
  "kernelspec": {
   "display_name": ".venv",
   "language": "python",
   "name": "python3"
  },
  "language_info": {
   "codemirror_mode": {
    "name": "ipython",
    "version": 3
   },
   "file_extension": ".py",
   "mimetype": "text/x-python",
   "name": "python",
   "nbconvert_exporter": "python",
   "pygments_lexer": "ipython3",
   "version": "3.12.3"
  }
 },
 "nbformat": 4,
 "nbformat_minor": 2
}
